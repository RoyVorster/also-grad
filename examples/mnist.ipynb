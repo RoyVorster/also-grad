{
 "cells": [
  {
   "cell_type": "code",
   "execution_count": 1,
   "id": "178f380b",
   "metadata": {},
   "outputs": [],
   "source": [
    "import numpy as np\n",
    "import matplotlib.pyplot as plt"
   ]
  },
  {
   "cell_type": "code",
   "execution_count": 2,
   "id": "a48b7032",
   "metadata": {},
   "outputs": [
    {
     "data": {
      "image/png": "[encoded data removed]",
      "text/plain": [
       "<Figure size 432x288 with 1 Axes>"
      ]
     },
     "metadata": {
      "needs_background": "light"
     },
     "output_type": "display_data"
    }
   ],
   "source": [
    "import urllib.request, urllib.parse, os.path, hashlib, gzip\n",
    "from functools import reduce\n",
    "\n",
    "def get_mnist_data(url, base_url='http://yann.lecun.com/exdb/mnist/'):\n",
    "    path = os.path.join('./data/', hashlib.md5(url.encode('utf-8')).hexdigest())\n",
    "    if os.path.isfile(path):\n",
    "        with open(path, 'rb') as f:\n",
    "            dat = f.read()\n",
    "    else:\n",
    "        with urllib.request.urlopen(urllib.parse.urljoin(base_url, url)) as response:\n",
    "            dat = response.read()\n",
    "\n",
    "        with open(path, 'wb') as f:\n",
    "            f.write(dat)\n",
    "\n",
    "    return np.frombuffer(gzip.decompress(dat), dtype=np.uint8).copy()\n",
    "\n",
    "size = (28, 28)\n",
    "n_features, n_classes = np.prod(size), 10\n",
    "\n",
    "X_train = get_mnist_data('train-images-idx3-ubyte.gz')[16:].reshape(-1, *size)\n",
    "y_train = get_mnist_data('train-labels-idx1-ubyte.gz')[8:]\n",
    "X_test = get_mnist_data('t10k-images-idx3-ubyte.gz')[16:].reshape(-1, *size)\n",
    "y_test = get_mnist_data('t10k-labels-idx1-ubyte.gz')[8:]\n",
    "\n",
    "# Test plot\n",
    "plt.imshow(X_train[10]);"
   ]
  },
  {
   "cell_type": "code",
   "execution_count": 3,
   "id": "423eb53b",
   "metadata": {},
   "outputs": [],
   "source": [
    "def gen_mini_batch(batch_size):\n",
    "    idxs = np.random.randint(0, high=np.shape(X_train)[0], size=batch_size)\n",
    "    return X_train[idxs].reshape((-1, n_features)), y_train[idxs]\n",
    "\n",
    "def one_hot(xs, n_classes=10):\n",
    "    ys = np.zeros((xs.shape[0], n_classes))\n",
    "    for i, x in enumerate(xs):\n",
    "        ys[i, x] = 1\n",
    "        \n",
    "    return ys"
   ]
  },
  {
   "cell_type": "code",
   "execution_count": 4,
   "id": "62957d45",
   "metadata": {},
   "outputs": [],
   "source": [
    "import alsograd.core as ag\n",
    "from alsograd.nn.module import Module\n",
    "from alsograd.nn.layers import Linear\n",
    "from alsograd.nn.activations import *\n",
    "\n",
    "class Net(Module):\n",
    "    def __init__(self):\n",
    "        super().__init__()\n",
    "\n",
    "        self.l1 = Linear(n_features, 128)\n",
    "        self.l2 = Linear(128, 32)\n",
    "        self.l3 = Linear(32, 10)\n",
    "\n",
    "    def forward(self, x):\n",
    "        x = relu(self.l1(x))\n",
    "        x = relu(self.l2(x))\n",
    "        x = self.l3(x)\n",
    "\n",
    "        return x"
   ]
  },
  {
   "cell_type": "code",
   "execution_count": 5,
   "id": "79fb2002",
   "metadata": {},
   "outputs": [],
   "source": [
    "model = Net()\n",
    "\n",
    "# Test inputs\n",
    "x, y_true = np.random.rand(8, n_features), np.random.randint(0, 10, size=8)\n",
    "\n",
    "# alsograd loss\n",
    "y_pred = model.forward(ag.Parameter(x))\n",
    "loss_ag = (-softmax(y_pred).log()*one_hot(y_true)).mean()*n_classes\n",
    "\n",
    "# Torch loss\n",
    "import torch\n",
    "import torch.nn as nn\n",
    "\n",
    "criterion = nn.CrossEntropyLoss()\n",
    "loss_th = criterion(torch.tensor(y_pred.data).float(), torch.tensor(y_true).long())\n",
    "\n",
    "assert (loss_th - loss_ag.data[0]).abs() < 1e-5"
   ]
  },
  {
   "cell_type": "code",
   "execution_count": 6,
   "id": "0f7826f6",
   "metadata": {},
   "outputs": [
    {
     "name": "stdout",
     "output_type": "stream",
     "text": [
      "Loss: 0.113, acc: 0.972\r"
     ]
    }
   ],
   "source": [
    "from alsograd.nn.optimizer import SGD\n",
    "\n",
    "# Train\n",
    "def get_acc(y_pred, y):\n",
    "    return (np.argmax(y_pred, axis=1) == y).mean()\n",
    "\n",
    "batch_size = 1024\n",
    "n_epoch, n_batches = 5, 100\n",
    "\n",
    "optimizer = SGD(model, learning_rate=1e-4)\n",
    "\n",
    "losses, accuracies = [], []\n",
    "for _ in range(n_epoch):\n",
    "    for _ in range(n_batches):\n",
    "        images, labels = gen_mini_batch(batch_size)\n",
    "        images, labels_oh = ag.Parameter(images), one_hot(labels)\n",
    "\n",
    "        optimizer.zero_grad()\n",
    "\n",
    "        y = model(images)\n",
    "        acc = get_acc(y.data, labels)\n",
    "\n",
    "        # Cross-entropy\n",
    "        loss = (-softmax(y).log()*labels_oh).mean()*n_classes\n",
    "        loss.backward()\n",
    "\n",
    "        optimizer.step()\n",
    "\n",
    "        # Process\n",
    "        losses.append(loss)\n",
    "        accuracies.append(acc)\n",
    "        print('Loss: {:.3f}, acc: {:.3f}'.format(loss.data[0], acc), end=\"\\r\")"
   ]
  },
  {
   "cell_type": "code",
   "execution_count": 7,
   "id": "74cc0806",
   "metadata": {},
   "outputs": [
    {
     "data": {
      "image/png": "[encoded data removed]",
      "text/plain": [
       "<Figure size 432x288 with 1 Axes>"
      ]
     },
     "metadata": {
      "needs_background": "light"
     },
     "output_type": "display_data"
    }
   ],
   "source": [
    "losses_np = [l.data[0] for l in losses]\n",
    "\n",
    "plt.plot(losses_np, label='Loss')\n",
    "plt.plot(accuracies, label='Accuracy')\n",
    "plt.ylim([0, 2])\n",
    "plt.legend()\n",
    "plt.grid()"
   ]
  }
 ],
 "metadata": {
  "kernelspec": {
   "display_name": "Python 3 (ipykernel)",
   "language": "python",
   "name": "python3"
  },
  "language_info": {
   "codemirror_mode": {
    "name": "ipython",
    "version": 3
   },
   "file_extension": ".py",
   "mimetype": "text/x-python",
   "name": "python",
   "nbconvert_exporter": "python",
   "pygments_lexer": "ipython3",
   "version": "3.9.12"
  }
 },
 "nbformat": 4,
 "nbformat_minor": 5
}
