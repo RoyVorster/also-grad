{
 "cells": [
  {
   "cell_type": "code",
   "execution_count": 1,
   "id": "ccca7094",
   "metadata": {},
   "outputs": [],
   "source": [
    "import numpy as np\n",
    "import matplotlib.pyplot as plt"
   ]
  },
  {
   "cell_type": "code",
   "execution_count": 2,
   "id": "85291860",
   "metadata": {},
   "outputs": [
    {
     "name": "stdout",
     "output_type": "stream",
     "text": [
      "fatal: destination path 'mnist1d' already exists and is not an empty directory.\r\n"
     ]
    }
   ],
   "source": [
    "!git clone https://github.com/greydanus/mnist1d\n",
    "import mnist1d\n",
    "from mnist1d.data import get_templates, get_dataset_args, get_dataset\n",
    "from mnist1d.utils import set_seed, plot_signals, ObjectView, from_pickle"
   ]
  },
  {
   "cell_type": "code",
   "execution_count": 3,
   "id": "390cf4e0",
   "metadata": {},
   "outputs": [
    {
     "name": "stdout",
     "output_type": "stream",
     "text": [
      "File already exists. Skipping download.\n",
      "Successfully loaded data from ./mnist1d_data.pkl\n"
     ]
    }
   ],
   "source": [
    "data = get_dataset(get_dataset_args()) # Default = mnist1d_data.pkl\n",
    "\n",
    "# Set the batch size for training & testing\n",
    "X_train, y_train = data['x'], data['y']\n",
    "X_test, y_test = data['x_test'], data['y_test']\n",
    "\n",
    "n_features, n_classes = X_train.shape[1], 10"
   ]
  },
  {
   "cell_type": "code",
   "execution_count": 4,
   "id": "22ba2c8f",
   "metadata": {},
   "outputs": [],
   "source": [
    "def gen_mini_batch(batch_size):\n",
    "    idxs = np.random.randint(0, high=X_train.shape[0], size=batch_size)\n",
    "    return X_train[idxs], y_train[idxs]\n",
    "\n",
    "def one_hot(xs, n_classes=10):\n",
    "    ys = np.zeros((xs.shape[0], n_classes))\n",
    "    for i, x in enumerate(xs):\n",
    "        ys[i, x] = 1\n",
    "\n",
    "    return ys"
   ]
  },
  {
   "cell_type": "code",
   "execution_count": 5,
   "id": "2e0f1bea",
   "metadata": {},
   "outputs": [],
   "source": [
    "import alsograd as ag\n",
    "import alsograd.nn as nn\n",
    "import alsograd.nn.functions as F\n",
    "from alsograd.nn.optimizer import *"
   ]
  },
  {
   "cell_type": "code",
   "execution_count": 6,
   "id": "1befd64b",
   "metadata": {},
   "outputs": [],
   "source": [
    "def get_acc(y_pred, y):\n",
    "    return (np.argmax(y_pred, axis=1) == y).mean()\n",
    "\n",
    "# Train\n",
    "def train(optimizer, model, batch_size=128, n_epoch=5, n_batches=200):\n",
    "    losses, accuracies = [], []\n",
    "\n",
    "    for _ in range(n_epoch):\n",
    "        for _ in range(n_batches):\n",
    "            images, labels = gen_mini_batch(batch_size)\n",
    "            images, labels_oh = ag.Parameter(images, requires_grad=False), ag.Parameter(one_hot(labels))\n",
    "\n",
    "            optimizer.zero_grad()\n",
    "\n",
    "            y = model(images)\n",
    "            acc = get_acc(y.data, labels)\n",
    "\n",
    "            # Cross-entropy\n",
    "            loss = F.cross_entropy_loss(y, labels_oh)\n",
    "            loss.backward()\n",
    "\n",
    "            optimizer.step()\n",
    "\n",
    "            # Process\n",
    "            losses.append(loss)\n",
    "            accuracies.append(acc)\n",
    "            print('Loss: {:.3f}, acc: {:.3f}'.format(loss.data[0], acc), end=\"\\r\")\n",
    "\n",
    "    return losses, accuracies\n",
    "            \n",
    "def plot_train_results(losses, accuracies):\n",
    "    losses_np = [l.data[0] for l in losses]\n",
    "\n",
    "    plt.plot(losses_np, label='Loss')\n",
    "    plt.plot(accuracies, label='Accuracy')\n",
    "    plt.ylim([0, 3])\n",
    "    plt.legend()\n",
    "    plt.grid()"
   ]
  },
  {
   "cell_type": "code",
   "execution_count": 7,
   "id": "7c79dd98",
   "metadata": {},
   "outputs": [],
   "source": [
    "# Simple transformer implementation\n",
    "class Net(nn.Module):\n",
    "    def __init__(self, hidden_size=5):\n",
    "        super().__init__()\n",
    "\n",
    "        self.lf, self.bf = nn.GRU(1, hidden_size), nn.GRU(1, hidden_size)\n",
    "        self.seq = nn.Bidirectional(self.lf, self.bf)\n",
    "\n",
    "        self.l1 = nn.Linear(n_features*hidden_size, n_classes)\n",
    "\n",
    "    def forward(self, x):\n",
    "        x = x.reshape(*x.shape, 1) # Reshape to batch_size, time_steps, dims\n",
    "        x = self.seq(x).mean(axis=-1).ravel(1)\n",
    "        return self.l1(x)"
   ]
  },
  {
   "cell_type": "code",
   "execution_count": 8,
   "id": "dc5d7213",
   "metadata": {},
   "outputs": [
    {
     "name": "stdout",
     "output_type": "stream",
     "text": [
      "Loss: 0.471, acc: 0.844\r"
     ]
    },
    {
     "data": {
      "image/png": "[encoded data removed]",
      "text/plain": [
       "<Figure size 432x288 with 1 Axes>"
      ]
     },
     "metadata": {
      "needs_background": "light"
     },
     "output_type": "display_data"
    }
   ],
   "source": [
    "model = Net()\n",
    "optimizer = SGD(model, learning_rate=5e-1, momentum=0.9)\n",
    "\n",
    "losses, accuracies = train(optimizer, model, batch_size=128, n_batches=250)\n",
    "plot_train_results(losses, accuracies)"
   ]
  },
  {
   "cell_type": "code",
   "execution_count": null,
   "id": "5159da63",
   "metadata": {},
   "outputs": [],
   "source": []
  }
 ],
 "metadata": {
  "kernelspec": {
   "display_name": "Python 3 (ipykernel)",
   "language": "python",
   "name": "python3"
  },
  "language_info": {
   "codemirror_mode": {
    "name": "ipython",
    "version": 3
   },
   "file_extension": ".py",
   "mimetype": "text/x-python",
   "name": "python",
   "nbconvert_exporter": "python",
   "pygments_lexer": "ipython3",
   "version": "3.10.3"
  }
 },
 "nbformat": 4,
 "nbformat_minor": 5
}
